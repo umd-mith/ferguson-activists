{
 "cells": [
  {
   "cell_type": "markdown",
   "metadata": {},
   "source": [
    "# Ferguson Activists\n",
    "\n",
    "These are some stats that Mosi Secret requested of our Ferguson related datasets. First we need to read in the results of our previous filtering of the tweet datasets:"
   ]
  },
  {
   "cell_type": "code",
   "execution_count": 85,
   "metadata": {},
   "outputs": [],
   "source": [
    "import pandas\n",
    "df = pandas.read_csv('results.csv', parse_dates=['parsed_created_at'])"
   ]
  },
  {
   "cell_type": "markdown",
   "metadata": {},
   "source": [
    "## 1. Name Mentions\n",
    "\n",
    "Plotting name mentions and user mentions (combined) against time - over the entire timeframes of the datasets - looking at how the number of mentions changed over time? The idea here would be to characterize the volume of the conversation about the victims over time. When did it surge over the course of the movement, what happened when they died, when did mentions fall off, did it ever tick back up again?"
   ]
  },
  {
   "cell_type": "code",
   "execution_count": 105,
   "metadata": {},
   "outputs": [
    {
     "data": {
      "text/plain": [
       "<matplotlib.axes._subplots.AxesSubplot at 0x11ce95dd0>"
      ]
     },
     "execution_count": 105,
     "metadata": {},
     "output_type": "execute_result"
    },
    {
     "data": {
      "image/png": "[encoded data removed]",
      "text/plain": [
       "<Figure size 432x288 with 1 Axes>"
      ]
     },
     "metadata": {
      "needs_background": "light"
     },
     "output_type": "display_data"
    }
   ],
   "source": [
    "mentions = df.set_index('parsed_created_at')\n",
    "mentions_by_day = mentions['id'].resample('D').count()\n",
    "mentions_by_day.name = 'count'\n",
    "mentions_by_day.plot()"
   ]
  },
  {
   "cell_type": "markdown",
   "metadata": {},
   "source": [
    "## 2. Darren Seals\n",
    "\n",
    "Ranking the users who most mentioned Darren Seals in the week after Seals died on Sept. 6, 2016.\n"
   ]
  },
  {
   "cell_type": "code",
   "execution_count": 87,
   "metadata": {},
   "outputs": [
    {
     "name": "stdout",
     "output_type": "stream",
     "text": [
      "Total Tweets:  1830\n",
      "\n",
      "Top 25 Users:\n",
      "user_screen_name\n",
      "HotNostrilsrFun    24\n",
      "StreetTeamAC       19\n",
      "_Arcy__            19\n",
      "Taobender          10\n",
      "TRANSLATINAS_NY    10\n",
      "MissionaryBLMM      8\n",
      "courtneyjahenry     8\n",
      "Romonaga_           8\n",
      "GraciasDarling      7\n",
      "BestFrenz           7\n",
      "VibeHi              7\n",
      "l4wstud3nt28        6\n",
      "exposes_racism      6\n",
      "FergSays            6\n",
      "brea55055           6\n",
      "Deb_Saw_Boy         5\n",
      "BLMTerrorist        5\n",
      "Progress4Ohio       5\n",
      "330Kingish          5\n",
      "yung_figgy          5\n",
      "zappin_liberals     5\n",
      "FightForHotep       5\n",
      "TBTRrevolution      4\n",
      "ProAmericana        4\n",
      "computablu          4\n",
      "timelessera         4\n",
      "handymayhem         4\n",
      "GinaInTheBurg       4\n",
      "milodogbos          4\n",
      "6inthebluff         4\n",
      "mjack888            4\n",
      "ThatzMimi           4\n",
      "CapnSuckMaCock      4\n",
      "WhoIsHuma           4\n",
      "NoThiefs            4\n",
      "raider_truth        4\n",
      "DanteB4u            3\n",
      "MissDBunker         3\n",
      "TrumpGirll2016      3\n",
      "TonyaSheffield_     3\n",
      "OckyJ83             3\n",
      "TwettGentleman      3\n",
      "EvrythingsaNail     3\n",
      "Energy53Alan        3\n",
      "EJLandwehr          3\n",
      "prycegod            3\n",
      "lunarmuva           3\n",
      "TcatdaGod           3\n",
      "VenoArt             3\n",
      "phoenixfreeband     3\n",
      "Name: user_screen_name, dtype: int64\n"
     ]
    }
   ],
   "source": [
    "q = 'parsed_created_at > \"2016-09-06 00:00:00+00:00\"' \\\n",
    "    'and parsed_created_at < \"2016-09-14 00:00:00+00:00\"' \\\n",
    "    'and (match_type == \"name mention\" or match_type == \"user mentioned\")'\n",
    "    \n",
    "mentions = df.query(q)\n",
    "counts = mentions['user_screen_name'].groupby(mentions['user_screen_name']).count().sort_values(ascending=False)\n",
    "\n",
    "print(\"Total Tweets: \", len(mentions))\n",
    "print()\n",
    "print(\"Top 25 Users:\")\n",
    "print(counts[0:50])"
   ]
  },
  {
   "cell_type": "code",
   "execution_count": null,
   "metadata": {},
   "outputs": [],
   "source": [
    "death = death[death['user_match'] == 'Darren Seals']\n",
    "death = death.query('match_type == \"name mention\" or match_type == \"user mentioned\"')"
   ]
  },
  {
   "cell_type": "markdown",
   "metadata": {},
   "source": [
    "## 3. Darren Seals Hashtags\n",
    "\n",
    "Ranking Darren Seals' most frequently used hashtags."
   ]
  },
  {
   "cell_type": "markdown",
   "metadata": {},
   "source": [
    "## 4. Darren Seals Mentions\n",
    "\n",
    "Ranking Darren Seals' most frequently mentions."
   ]
  },
  {
   "cell_type": "code",
   "execution_count": null,
   "metadata": {},
   "outputs": [],
   "source": []
  }
 ],
 "metadata": {
  "kernelspec": {
   "display_name": "Python 3",
   "language": "python",
   "name": "python3"
  },
  "language_info": {
   "codemirror_mode": {
    "name": "ipython",
    "version": 3
   },
   "file_extension": ".py",
   "mimetype": "text/x-python",
   "name": "python",
   "nbconvert_exporter": "python",
   "pygments_lexer": "ipython3",
   "version": "3.7.6"
  }
 },
 "nbformat": 4,
 "nbformat_minor": 2
}
